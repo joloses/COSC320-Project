{
 "cells": [
  {
   "cell_type": "code",
   "execution_count": 1,
   "id": "a28a3546-d194-48bb-99eb-93b1ffbaa857",
   "metadata": {},
   "outputs": [],
   "source": [
    "# Algorithm 1 Implementation"
   ]
  },
  {
   "cell_type": "code",
   "execution_count": 2,
   "id": "19c762d2-fec8-49bc-ada6-e7bdb6b9b33d",
   "metadata": {},
   "outputs": [],
   "source": [
    "import pandas as pd"
   ]
  },
  {
   "cell_type": "code",
   "execution_count": 40,
   "id": "99f9a8f2-be9c-41dd-a847-3ce9ce3795e1",
   "metadata": {},
   "outputs": [],
   "source": [
    "def Algo1(words, abb):\n",
    "    output = []\n",
    "    for w in words:\n",
    "        x = []\n",
    "        for i in w:\n",
    "            if (i in abb.keys()):\n",
    "                x.append(abb[i])\n",
    "            else:\n",
    "                x.append(i)\n",
    "        output.append(x)\n",
    "    return output\n",
    "            "
   ]
  },
  {
   "cell_type": "code",
   "execution_count": 3,
   "id": "e7f6076d-46ad-46f0-88c8-586cafbd354e",
   "metadata": {},
   "outputs": [
    {
     "name": "stderr",
     "output_type": "stream",
     "text": [
      "C:\\Users\\jerem\\AppData\\Local\\Temp\\ipykernel_18672\\223460327.py:1: DtypeWarning: Columns (8,9) have mixed types. Specify dtype option on import or set low_memory=False.\n",
      "  tweetdata = pd.read_csv(\"com.rockstargames.gtasa.csv\")\n"
     ]
    }
   ],
   "source": [
    "tweetdata = pd.read_csv(\"com.rockstargames.gtasa.csv\")\n",
    "slangdata = pd.read_csv(\"Slang-dataset/slang.csv\")\n"
   ]
  },
  {
   "cell_type": "code",
   "execution_count": 47,
   "id": "705b2c49-81d5-491f-a021-3ce649a622f4",
   "metadata": {},
   "outputs": [],
   "source": [
    "content = tweetdata['content']\n",
    "content = content.dropna()\n",
    "tweetlist = content.tolist()\n"
   ]
  },
  {
   "cell_type": "code",
   "execution_count": 27,
   "id": "9b2e9ec5-1d37-4cbd-bda6-6576475b41eb",
   "metadata": {},
   "outputs": [],
   "source": [
    "\n",
    "words = []\n",
    "for string in tweetlist:\n",
    "    x = string.split()\n",
    "    words.append(x)\n"
   ]
  },
  {
   "cell_type": "code",
   "execution_count": 28,
   "id": "b26ad0a6-b40a-459f-a34a-db1b3062f1e4",
   "metadata": {},
   "outputs": [],
   "source": [
    "slangdata = slangdata.dropna()\n",
    "slangdict = {}\n",
    "slangac = slangdata['acronym']\n",
    "slangexp = slangdata['expansion']\n",
    "\n",
    "slangdict = {k : v for k, v in zip(slangac, slangexp)}\n"
   ]
  },
  {
   "cell_type": "code",
   "execution_count": 52,
   "id": "fd1078be-91b6-4104-a12b-45f493ba5433",
   "metadata": {},
   "outputs": [],
   "source": [
    "output = Algo1(words, slangdict)\n",
    "\n"
   ]
  },
  {
   "cell_type": "code",
   "execution_count": null,
   "id": "5619147a-b594-4c83-abb8-baa776717fcb",
   "metadata": {},
   "outputs": [],
   "source": []
  }
 ],
 "metadata": {
  "kernelspec": {
   "display_name": "Python 3 (ipykernel)",
   "language": "python",
   "name": "python3"
  },
  "language_info": {
   "codemirror_mode": {
    "name": "ipython",
    "version": 3
   },
   "file_extension": ".py",
   "mimetype": "text/x-python",
   "name": "python",
   "nbconvert_exporter": "python",
   "pygments_lexer": "ipython3",
   "version": "3.9.12"
  }
 },
 "nbformat": 4,
 "nbformat_minor": 5
}
