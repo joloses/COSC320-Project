{
 "cells": [
  {
   "cell_type": "code",
   "execution_count": 1,
   "id": "a28a3546-d194-48bb-99eb-93b1ffbaa857",
   "metadata": {},
   "outputs": [],
   "source": [
    "# Algorithm 1 Implementation"
   ]
  },
  {
   "cell_type": "code",
   "execution_count": 55,
   "id": "19c762d2-fec8-49bc-ada6-e7bdb6b9b33d",
   "metadata": {},
   "outputs": [],
   "source": [
    "import pandas as pd\n",
    "import numpy as np\n",
    "import timeit "
   ]
  },
  {
   "cell_type": "code",
   "execution_count": 40,
   "id": "99f9a8f2-be9c-41dd-a847-3ce9ce3795e1",
   "metadata": {},
   "outputs": [],
   "source": [
    "def Algo1(words, abb):\n",
    "    output = []\n",
    "    for w in words:\n",
    "        x = []\n",
    "        for i in w:\n",
    "            if (i in abb.keys()):\n",
    "                x.append(abb[i])\n",
    "            else:\n",
    "                x.append(i)\n",
    "        output.append(x)\n",
    "    return output\n",
    "            "
   ]
  },
  {
   "cell_type": "code",
   "execution_count": 3,
   "id": "e7f6076d-46ad-46f0-88c8-586cafbd354e",
   "metadata": {},
   "outputs": [
    {
     "name": "stderr",
     "output_type": "stream",
     "text": [
      "C:\\Users\\jerem\\AppData\\Local\\Temp\\ipykernel_18672\\223460327.py:1: DtypeWarning: Columns (8,9) have mixed types. Specify dtype option on import or set low_memory=False.\n",
      "  tweetdata = pd.read_csv(\"com.rockstargames.gtasa.csv\")\n"
     ]
    }
   ],
   "source": [
    "tweetdata = pd.read_csv(\"com.rockstargames.gtasa.csv\")\n",
    "slangdata = pd.read_csv(\"Slang-dataset/slang.csv\")\n"
   ]
  },
  {
   "cell_type": "code",
   "execution_count": 47,
   "id": "705b2c49-81d5-491f-a021-3ce649a622f4",
   "metadata": {},
   "outputs": [],
   "source": [
    "content = tweetdata['content']\n",
    "content = content.dropna()\n",
    "tweetlist = content.tolist()\n"
   ]
  },
  {
   "cell_type": "code",
   "execution_count": 27,
   "id": "9b2e9ec5-1d37-4cbd-bda6-6576475b41eb",
   "metadata": {},
   "outputs": [],
   "source": [
    "\n",
    "words = []\n",
    "for string in tweetlist:\n",
    "    x = string.split()\n",
    "    words.append(x)\n"
   ]
  },
  {
   "cell_type": "code",
   "execution_count": 28,
   "id": "b26ad0a6-b40a-459f-a34a-db1b3062f1e4",
   "metadata": {},
   "outputs": [],
   "source": [
    "slangdata = slangdata.dropna()\n",
    "slangdict = {}\n",
    "slangac = slangdata['acronym']\n",
    "slangexp = slangdata['expansion']\n",
    "\n",
    "slangdict = {k : v for k, v in zip(slangac, slangexp)}\n"
   ]
  },
  {
   "cell_type": "code",
   "execution_count": 52,
   "id": "fd1078be-91b6-4104-a12b-45f493ba5433",
   "metadata": {},
   "outputs": [],
   "source": [
    "output = Algo1(words, slangdict)\n"
   ]
  },
  {
   "cell_type": "code",
   "execution_count": 58,
   "id": "5619147a-b594-4c83-abb8-baa776717fcb",
   "metadata": {},
   "outputs": [
    {
     "ename": "KeyboardInterrupt",
     "evalue": "",
     "output_type": "error",
     "traceback": [
      "\u001b[1;31m---------------------------------------------------------------------------\u001b[0m",
      "\u001b[1;31mKeyboardInterrupt\u001b[0m                         Traceback (most recent call last)",
      "Cell \u001b[1;32mIn [58], line 2\u001b[0m\n\u001b[0;32m      1\u001b[0m ns \u001b[38;5;241m=\u001b[39m np\u001b[38;5;241m.\u001b[39mlinspace(\u001b[38;5;241m10\u001b[39m, \u001b[38;5;241m10_000\u001b[39m, \u001b[38;5;241m100\u001b[39m, dtype\u001b[38;5;241m=\u001b[39m\u001b[38;5;28mint\u001b[39m)\n\u001b[1;32m----> 2\u001b[0m ts \u001b[38;5;241m=\u001b[39m [timeit\u001b[38;5;241m.\u001b[39mtimeit(\u001b[38;5;124m'\u001b[39m\u001b[38;5;124mAlgo1(words, slangdict)\u001b[39m\u001b[38;5;124m'\u001b[39m,\n\u001b[0;32m      3\u001b[0m                     \u001b[38;5;28mglobals\u001b[39m\u001b[38;5;241m=\u001b[39m\u001b[38;5;28mglobals\u001b[39m(),\n\u001b[0;32m      4\u001b[0m                     number\u001b[38;5;241m=\u001b[39m\u001b[38;5;241m100\u001b[39m)\n\u001b[0;32m      5\u001b[0m       \u001b[38;5;28;01mfor\u001b[39;00m n \u001b[38;5;129;01min\u001b[39;00m ns]\n\u001b[0;32m      6\u001b[0m plt\u001b[38;5;241m.\u001b[39mplot(ns, ts, \u001b[38;5;124m'\u001b[39m\u001b[38;5;124mor\u001b[39m\u001b[38;5;124m'\u001b[39m)\n",
      "Cell \u001b[1;32mIn [58], line 2\u001b[0m, in \u001b[0;36m<listcomp>\u001b[1;34m(.0)\u001b[0m\n\u001b[0;32m      1\u001b[0m ns \u001b[38;5;241m=\u001b[39m np\u001b[38;5;241m.\u001b[39mlinspace(\u001b[38;5;241m10\u001b[39m, \u001b[38;5;241m10_000\u001b[39m, \u001b[38;5;241m100\u001b[39m, dtype\u001b[38;5;241m=\u001b[39m\u001b[38;5;28mint\u001b[39m)\n\u001b[1;32m----> 2\u001b[0m ts \u001b[38;5;241m=\u001b[39m [\u001b[43mtimeit\u001b[49m\u001b[38;5;241;43m.\u001b[39;49m\u001b[43mtimeit\u001b[49m\u001b[43m(\u001b[49m\u001b[38;5;124;43m'\u001b[39;49m\u001b[38;5;124;43mAlgo1(words, slangdict)\u001b[39;49m\u001b[38;5;124;43m'\u001b[39;49m\u001b[43m,\u001b[49m\n\u001b[0;32m      3\u001b[0m \u001b[43m                    \u001b[49m\u001b[38;5;28;43mglobals\u001b[39;49m\u001b[38;5;241;43m=\u001b[39;49m\u001b[38;5;28;43mglobals\u001b[39;49m\u001b[43m(\u001b[49m\u001b[43m)\u001b[49m\u001b[43m,\u001b[49m\n\u001b[0;32m      4\u001b[0m \u001b[43m                    \u001b[49m\u001b[43mnumber\u001b[49m\u001b[38;5;241;43m=\u001b[39;49m\u001b[38;5;241;43m100\u001b[39;49m\u001b[43m)\u001b[49m\n\u001b[0;32m      5\u001b[0m       \u001b[38;5;28;01mfor\u001b[39;00m n \u001b[38;5;129;01min\u001b[39;00m ns]\n\u001b[0;32m      6\u001b[0m plt\u001b[38;5;241m.\u001b[39mplot(ns, ts, \u001b[38;5;124m'\u001b[39m\u001b[38;5;124mor\u001b[39m\u001b[38;5;124m'\u001b[39m)\n",
      "File \u001b[1;32m~\\miniconda3\\lib\\timeit.py:233\u001b[0m, in \u001b[0;36mtimeit\u001b[1;34m(stmt, setup, timer, number, globals)\u001b[0m\n\u001b[0;32m    230\u001b[0m \u001b[38;5;28;01mdef\u001b[39;00m \u001b[38;5;21mtimeit\u001b[39m(stmt\u001b[38;5;241m=\u001b[39m\u001b[38;5;124m\"\u001b[39m\u001b[38;5;124mpass\u001b[39m\u001b[38;5;124m\"\u001b[39m, setup\u001b[38;5;241m=\u001b[39m\u001b[38;5;124m\"\u001b[39m\u001b[38;5;124mpass\u001b[39m\u001b[38;5;124m\"\u001b[39m, timer\u001b[38;5;241m=\u001b[39mdefault_timer,\n\u001b[0;32m    231\u001b[0m            number\u001b[38;5;241m=\u001b[39mdefault_number, \u001b[38;5;28mglobals\u001b[39m\u001b[38;5;241m=\u001b[39m\u001b[38;5;28;01mNone\u001b[39;00m):\n\u001b[0;32m    232\u001b[0m     \u001b[38;5;124;03m\"\"\"Convenience function to create Timer object and call timeit method.\"\"\"\u001b[39;00m\n\u001b[1;32m--> 233\u001b[0m     \u001b[38;5;28;01mreturn\u001b[39;00m \u001b[43mTimer\u001b[49m\u001b[43m(\u001b[49m\u001b[43mstmt\u001b[49m\u001b[43m,\u001b[49m\u001b[43m \u001b[49m\u001b[43msetup\u001b[49m\u001b[43m,\u001b[49m\u001b[43m \u001b[49m\u001b[43mtimer\u001b[49m\u001b[43m,\u001b[49m\u001b[43m \u001b[49m\u001b[38;5;28;43mglobals\u001b[39;49m\u001b[43m)\u001b[49m\u001b[38;5;241;43m.\u001b[39;49m\u001b[43mtimeit\u001b[49m\u001b[43m(\u001b[49m\u001b[43mnumber\u001b[49m\u001b[43m)\u001b[49m\n",
      "File \u001b[1;32m~\\miniconda3\\lib\\timeit.py:177\u001b[0m, in \u001b[0;36mTimer.timeit\u001b[1;34m(self, number)\u001b[0m\n\u001b[0;32m    175\u001b[0m gc\u001b[38;5;241m.\u001b[39mdisable()\n\u001b[0;32m    176\u001b[0m \u001b[38;5;28;01mtry\u001b[39;00m:\n\u001b[1;32m--> 177\u001b[0m     timing \u001b[38;5;241m=\u001b[39m \u001b[38;5;28;43mself\u001b[39;49m\u001b[38;5;241;43m.\u001b[39;49m\u001b[43minner\u001b[49m\u001b[43m(\u001b[49m\u001b[43mit\u001b[49m\u001b[43m,\u001b[49m\u001b[43m \u001b[49m\u001b[38;5;28;43mself\u001b[39;49m\u001b[38;5;241;43m.\u001b[39;49m\u001b[43mtimer\u001b[49m\u001b[43m)\u001b[49m\n\u001b[0;32m    178\u001b[0m \u001b[38;5;28;01mfinally\u001b[39;00m:\n\u001b[0;32m    179\u001b[0m     \u001b[38;5;28;01mif\u001b[39;00m gcold:\n",
      "File \u001b[1;32m<timeit-src>:6\u001b[0m, in \u001b[0;36minner\u001b[1;34m(_it, _timer)\u001b[0m\n",
      "\u001b[1;31mKeyboardInterrupt\u001b[0m: "
     ]
    }
   ],
   "source": [
    "ns = np.linspace(10, 10_000, 100, dtype=int)\n",
    "ts = [timeit.timeit('Algo1(words, slangdict)',\n",
    "                    globals=globals(),\n",
    "                    number=100)\n",
    "      for n in ns]\n",
    "plt.plot(ns, ts, 'or')"
   ]
  },
  {
   "cell_type": "code",
   "execution_count": null,
   "id": "cfdf4620-8969-4cb0-a33f-09481269ae66",
   "metadata": {},
   "outputs": [],
   "source": []
  }
 ],
 "metadata": {
  "kernelspec": {
   "display_name": "Python 3 (ipykernel)",
   "language": "python",
   "name": "python3"
  },
  "language_info": {
   "codemirror_mode": {
    "name": "ipython",
    "version": 3
   },
   "file_extension": ".py",
   "mimetype": "text/x-python",
   "name": "python",
   "nbconvert_exporter": "python",
   "pygments_lexer": "ipython3",
   "version": "3.9.12"
  }
 },
 "nbformat": 4,
 "nbformat_minor": 5
}
